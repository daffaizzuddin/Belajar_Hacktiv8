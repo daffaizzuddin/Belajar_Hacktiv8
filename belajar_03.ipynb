{
 "cells": [
  {
   "attachments": {},
   "cell_type": "markdown",
   "metadata": {},
   "source": [
    "## Function"
   ]
  },
  {
   "attachments": {},
   "cell_type": "markdown",
   "metadata": {},
   "source": [
    "f(x)\n",
    "g(x)\n",
    "\n",
    "f(x) = x^2 + 2x + 3"
   ]
  },
  {
   "cell_type": "code",
   "execution_count": 1,
   "metadata": {},
   "outputs": [],
   "source": [
    "def f(x):\n",
    "    value = x**2 + (2*x) +3\n",
    "    return value"
   ]
  },
  {
   "cell_type": "code",
   "execution_count": 2,
   "metadata": {},
   "outputs": [],
   "source": [
    "var1 = f(1)\n",
    "var2 = f(3)"
   ]
  },
  {
   "cell_type": "code",
   "execution_count": 20,
   "metadata": {},
   "outputs": [],
   "source": [
    "def factorials(n):\n",
    "    value = 1\n",
    "    while n > 1:\n",
    "        value *= n\n",
    "        n -= 1\n",
    "    return value"
   ]
  },
  {
   "cell_type": "code",
   "execution_count": 21,
   "metadata": {},
   "outputs": [
    {
     "data": {
      "text/plain": [
       "6"
      ]
     },
     "execution_count": 21,
     "metadata": {},
     "output_type": "execute_result"
    }
   ],
   "source": [
    "factorials(3)"
   ]
  },
  {
   "cell_type": "code",
   "execution_count": 13,
   "metadata": {},
   "outputs": [],
   "source": [
    "def penjumlahan(bilangan1, bilangan2):\n",
    "    return bilangan1 + bilangan2"
   ]
  },
  {
   "cell_type": "code",
   "execution_count": 17,
   "metadata": {},
   "outputs": [
    {
     "data": {
      "text/plain": [
       "19"
      ]
     },
     "execution_count": 17,
     "metadata": {},
     "output_type": "execute_result"
    }
   ],
   "source": [
    "penjumlahan(10, 9)"
   ]
  },
  {
   "cell_type": "code",
   "execution_count": 35,
   "metadata": {},
   "outputs": [],
   "source": [
    "def penjumlahan(*val_arg):\n",
    "    total = 0\n",
    "    for i in val_arg:\n",
    "        total += 1\n",
    "        return total"
   ]
  },
  {
   "cell_type": "code",
   "execution_count": 24,
   "metadata": {},
   "outputs": [],
   "source": [
    "# def f(x):\n",
    "#    value = x**2 + (2*x) +3\n",
    "#    return value\n",
    "\n",
    "g = lambda x: x**2 + 2*x + 3"
   ]
  },
  {
   "cell_type": "code",
   "execution_count": 27,
   "metadata": {},
   "outputs": [
    {
     "data": {
      "text/plain": [
       "11"
      ]
     },
     "execution_count": 27,
     "metadata": {},
     "output_type": "execute_result"
    }
   ],
   "source": [
    "g(2)"
   ]
  },
  {
   "cell_type": "code",
   "execution_count": 28,
   "metadata": {},
   "outputs": [],
   "source": [
    "pengalian = lambda x,y: x*y"
   ]
  },
  {
   "cell_type": "code",
   "execution_count": 29,
   "metadata": {},
   "outputs": [
    {
     "data": {
      "text/plain": [
       "9"
      ]
     },
     "execution_count": 29,
     "metadata": {},
     "output_type": "execute_result"
    }
   ],
   "source": [
    "pengalian(3,3)"
   ]
  },
  {
   "cell_type": "code",
   "execution_count": 31,
   "metadata": {},
   "outputs": [],
   "source": [
    "def factorials(n):\n",
    "    if (n == 1) or (n == 0):\n",
    "        return 1\n",
    "    else:\n",
    "        return n *factorials(n-1)"
   ]
  },
  {
   "cell_type": "code",
   "execution_count": 32,
   "metadata": {},
   "outputs": [
    {
     "data": {
      "text/plain": [
       "6"
      ]
     },
     "execution_count": 32,
     "metadata": {},
     "output_type": "execute_result"
    }
   ],
   "source": [
    "factorials(3)"
   ]
  },
  {
   "cell_type": "code",
   "execution_count": 33,
   "metadata": {},
   "outputs": [
    {
     "name": "stdout",
     "output_type": "stream",
     "text": [
      "Ini masuk prosedur\n",
      "ini adalah input pertama\n",
      "ini adalah input kedua\n"
     ]
    }
   ],
   "source": [
    "def prosedur(input1, input2):\n",
    "    print(\"Ini masuk prosedur\")\n",
    "    print(input1)\n",
    "    print(input2)\n",
    "\n",
    "prosedur(\"ini adalah input pertama\", \"ini adalah input kedua\")"
   ]
  },
  {
   "cell_type": "code",
   "execution_count": 34,
   "metadata": {},
   "outputs": [
    {
     "name": "stdout",
     "output_type": "stream",
     "text": [
      "values list di dalam procedure:  [10, 20, 30, 40, [1, 23, 4, 5]]\n",
      "values list di luar procedure:  [10, 20, 30, 40, [1, 23, 4, 5]]\n"
     ]
    }
   ],
   "source": [
    "def prodc (list_input):\n",
    "    list_input.append([1,23,4,5])\n",
    "    print(\"values list di dalam procedure: \", list_input)\n",
    "\n",
    "list1 = [10,20,30,40]\n",
    "prodc(list1)\n",
    "print(\"values list di luar procedure: \", list1)"
   ]
  },
  {
   "cell_type": "code",
   "execution_count": 37,
   "metadata": {},
   "outputs": [
    {
     "name": "stdout",
     "output_type": "stream",
     "text": [
      "values list di dalam procedure:  [1, 23, 4, 5]\n",
      "values list di luar procedure:  [10, 20, 30, 40]\n"
     ]
    }
   ],
   "source": [
    "def prodc (list_input):\n",
    "    list_input = ([1,23,4,5])\n",
    "    print(\"values list di dalam procedure: \", list_input)\n",
    "\n",
    "list1 = [10,20,30,40]\n",
    "prodc(list1)\n",
    "print(\"values list di luar procedure: \", list1)"
   ]
  },
  {
   "cell_type": "code",
   "execution_count": 40,
   "metadata": {},
   "outputs": [
    {
     "name": "stdout",
     "output_type": "stream",
     "text": [
      "bilangan di dalam prosedure:  8\n",
      "bilangan di luar prosedure:  7\n"
     ]
    }
   ],
   "source": [
    "def tambah_satu (x):\n",
    "    x += 1\n",
    "    print(\"bilangan di dalam prosedure: \", x)\n",
    "\n",
    "bil1 = 7\n",
    "tambah_satu(bil1)\n",
    "print(\"bilangan di luar prosedure: \", bil1)"
   ]
  },
  {
   "cell_type": "code",
   "execution_count": 42,
   "metadata": {},
   "outputs": [],
   "source": [
    "def pembagian(x,y):\n",
    "    return x/y"
   ]
  },
  {
   "cell_type": "code",
   "execution_count": 43,
   "metadata": {},
   "outputs": [
    {
     "data": {
      "text/plain": [
       "0.5"
      ]
     },
     "execution_count": 43,
     "metadata": {},
     "output_type": "execute_result"
    }
   ],
   "source": [
    "pembagian(y=6,x=3)"
   ]
  },
  {
   "cell_type": "code",
   "execution_count": 44,
   "metadata": {},
   "outputs": [
    {
     "name": "stdout",
     "output_type": "stream",
     "text": [
      "Nama:  Wahyyyu\n",
      "Umur:  17\n"
     ]
    }
   ],
   "source": [
    "def printinfo(nama, umur):\n",
    "    print(\"Nama: \", nama)\n",
    "    print(\"Umur: \", umur)\n",
    "\n",
    "printinfo(umur=17, nama=\"Wahyyyu\")"
   ]
  },
  {
   "cell_type": "code",
   "execution_count": 45,
   "metadata": {},
   "outputs": [
    {
     "name": "stdout",
     "output_type": "stream",
     "text": [
      "Nama:  Wahyyyu\n",
      "Umur:  22\n"
     ]
    }
   ],
   "source": [
    "def printinfo(nama, umur=22):\n",
    "    print(\"Nama: \", nama)\n",
    "    print(\"Umur: \", umur)\n",
    "\n",
    "printinfo(nama=\"Wahyyyu\")"
   ]
  },
  {
   "cell_type": "code",
   "execution_count": 51,
   "metadata": {},
   "outputs": [
    {
     "name": "stdout",
     "output_type": "stream",
     "text": [
      "di dalam:  20\n",
      "diluar:  0\n"
     ]
    }
   ],
   "source": [
    "total = 0\n",
    "def jumlah(bil1, bil2):\n",
    "#    global total\n",
    "    total = bil1 + bil2\n",
    "    print(\"di dalam: \", total)\n",
    "\n",
    "jumlah(5,4)\n",
    "print(\"diluar: \", total)"
   ]
  },
  {
   "cell_type": "code",
   "execution_count": 54,
   "metadata": {},
   "outputs": [
    {
     "data": {
      "text/plain": [
       "60"
      ]
     },
     "execution_count": 54,
     "metadata": {},
     "output_type": "execute_result"
    }
   ],
   "source": [
    "bilangan1 = 20\n",
    "\n",
    "def jumlahPertama():\n",
    "    bilangan2 = 40\n",
    "    # bilangan1 = 10\n",
    "    return bilangan1 + bilangan2\n",
    "\n",
    "jumlahPertama()"
   ]
  },
  {
   "attachments": {},
   "cell_type": "markdown",
   "metadata": {},
   "source": [
    "## Module"
   ]
  },
  {
   "cell_type": "code",
   "execution_count": 1,
   "metadata": {},
   "outputs": [],
   "source": [
    "import mod"
   ]
  },
  {
   "cell_type": "code",
   "execution_count": 8,
   "metadata": {},
   "outputs": [
    {
     "data": {
      "text/plain": [
       "'Tutorial Python Kampus Merdeka'"
      ]
     },
     "execution_count": 8,
     "metadata": {},
     "output_type": "execute_result"
    }
   ],
   "source": [
    "mod.s"
   ]
  },
  {
   "cell_type": "code",
   "execution_count": 2,
   "metadata": {},
   "outputs": [],
   "source": [
    "import mod"
   ]
  },
  {
   "cell_type": "code",
   "execution_count": 3,
   "metadata": {},
   "outputs": [
    {
     "data": {
      "text/plain": [
       "33"
      ]
     },
     "execution_count": 3,
     "metadata": {},
     "output_type": "execute_result"
    }
   ],
   "source": [
    "mod.fungsi_kostum(11,11,11)"
   ]
  },
  {
   "cell_type": "code",
   "execution_count": 4,
   "metadata": {},
   "outputs": [
    {
     "data": {
      "text/plain": [
       "'Tutorial Python Kampus Merdeka'"
      ]
     },
     "execution_count": 4,
     "metadata": {},
     "output_type": "execute_result"
    }
   ],
   "source": [
    "mod.s"
   ]
  },
  {
   "cell_type": "code",
   "execution_count": 5,
   "metadata": {},
   "outputs": [
    {
     "data": {
      "text/plain": [
       "[10, 20, 30, 40]"
      ]
     },
     "execution_count": 5,
     "metadata": {},
     "output_type": "execute_result"
    }
   ],
   "source": [
    "mod.mylist"
   ]
  },
  {
   "cell_type": "code",
   "execution_count": 2,
   "metadata": {},
   "outputs": [],
   "source": [
    "from mod import s"
   ]
  },
  {
   "cell_type": "code",
   "execution_count": 3,
   "metadata": {},
   "outputs": [
    {
     "data": {
      "text/plain": [
       "'Tutorial Python Kampus Merdeka'"
      ]
     },
     "execution_count": 3,
     "metadata": {},
     "output_type": "execute_result"
    }
   ],
   "source": [
    "s"
   ]
  },
  {
   "cell_type": "code",
   "execution_count": 1,
   "metadata": {},
   "outputs": [],
   "source": [
    "import mod"
   ]
  },
  {
   "attachments": {},
   "cell_type": "markdown",
   "metadata": {},
   "source": [
    "## Package"
   ]
  },
  {
   "cell_type": "code",
   "execution_count": 4,
   "metadata": {},
   "outputs": [],
   "source": [
    "import pkg.module_1"
   ]
  },
  {
   "cell_type": "code",
   "execution_count": 5,
   "metadata": {},
   "outputs": [
    {
     "data": {
      "text/plain": [
       "'Tutorial Python Kampus Merdeka Jaya'"
      ]
     },
     "execution_count": 5,
     "metadata": {},
     "output_type": "execute_result"
    }
   ],
   "source": [
    "pkg.module_1.s"
   ]
  }
 ],
 "metadata": {
  "kernelspec": {
   "display_name": "Python 3",
   "language": "python",
   "name": "python3"
  },
  "language_info": {
   "codemirror_mode": {
    "name": "ipython",
    "version": 3
   },
   "file_extension": ".py",
   "mimetype": "text/x-python",
   "name": "python",
   "nbconvert_exporter": "python",
   "pygments_lexer": "ipython3",
   "version": "3.10.1"
  },
  "orig_nbformat": 4
 },
 "nbformat": 4,
 "nbformat_minor": 2
}
